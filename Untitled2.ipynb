{
 "cells": [
  {
   "cell_type": "code",
   "execution_count": 1,
   "id": "c88cb19b",
   "metadata": {},
   "outputs": [],
   "source": [
    "import pandas as pd"
   ]
  },
  {
   "cell_type": "code",
   "execution_count": 6,
   "id": "cfd3222d",
   "metadata": {},
   "outputs": [],
   "source": [
    "#relation = pd.read_csv(r'C:\\Users\\hp\\Dropbox\\My PC (DESKTOP-4HF9BBD)\\Desktop\\data_relation_1.csv')"
   ]
  },
  {
   "cell_type": "code",
   "execution_count": 25,
   "id": "a3833fdb",
   "metadata": {},
   "outputs": [],
   "source": [
    "relation='my  mother  is  very  nice  person.my  father  is  an  ex  servicemen.I  have  younger  sister.My  son  name  is  vijay'"
   ]
  },
  {
   "cell_type": "code",
   "execution_count": 26,
   "id": "2f24cf93",
   "metadata": {},
   "outputs": [],
   "source": [
    "from conllu import parse"
   ]
  },
  {
   "cell_type": "code",
   "execution_count": 28,
   "id": "8b39a001",
   "metadata": {},
   "outputs": [],
   "source": [
    "data=\"\"\"\n",
    "# text = The quick brown fox jumps over the lazy dog.\n",
    "1   The     the    DET    DT   Definite=Def|PronType=Art   4   det     _   _\n",
    "2   quick   quick  ADJ    JJ   Degree=Pos                  4   amod    _   _\n",
    "3   brown   brown  ADJ    JJ   Degree=Pos                  4   amod    _   _\n",
    "4   fox     fox    NOUN   NN   Number=Sing                 5   nsubj   _   _\n",
    "5   jumps   jump   VERB   VBZ  Mood=Ind|Number=Sing|Person=3|Tense=Pres|VerbForm=Fin   0   root    _   _\n",
    "6   over    over   ADP    IN   _                           9   case    _   _\n",
    "7   the     the    DET    DT   Definite=Def|PronType=Art   9   det     _   _\n",
    "8   lazy    lazy   ADJ    JJ   Degree=Pos                  9   amod    _   _\n",
    "9   dog     dog    NOUN   NN   Number=Sing                 5   nmod    _   SpaceAfter=No\n",
    "10  .       .      PUNCT  .    _                           5   punct   _   _\n",
    "\n",
    "\"\"\""
   ]
  },
  {
   "cell_type": "code",
   "execution_count": 29,
   "id": "f13af518",
   "metadata": {},
   "outputs": [],
   "source": [
    "sentences = parse(data)"
   ]
  },
  {
   "cell_type": "code",
   "execution_count": 30,
   "id": "c715c8bc",
   "metadata": {},
   "outputs": [
    {
     "data": {
      "text/plain": [
       "[TokenList<The, quick, brown, fox, jumps, over, the, lazy, dog, .>]"
      ]
     },
     "execution_count": 30,
     "metadata": {},
     "output_type": "execute_result"
    }
   ],
   "source": [
    "sentences"
   ]
  },
  {
   "cell_type": "code",
   "execution_count": 32,
   "id": "68ceb69c",
   "metadata": {},
   "outputs": [],
   "source": [
    "token = sentences[0]"
   ]
  },
  {
   "cell_type": "code",
   "execution_count": 33,
   "id": "b92770f3",
   "metadata": {},
   "outputs": [
    {
     "data": {
      "text/plain": [
       "TokenList<The, quick, brown, fox, jumps, over, the, lazy, dog, .>"
      ]
     },
     "execution_count": 33,
     "metadata": {},
     "output_type": "execute_result"
    }
   ],
   "source": [
    "token"
   ]
  },
  {
   "cell_type": "code",
   "execution_count": null,
   "id": "496fdf5c",
   "metadata": {},
   "outputs": [],
   "source": []
  }
 ],
 "metadata": {
  "kernelspec": {
   "display_name": "Python 3 (ipykernel)",
   "language": "python",
   "name": "python3"
  },
  "language_info": {
   "codemirror_mode": {
    "name": "ipython",
    "version": 3
   },
   "file_extension": ".py",
   "mimetype": "text/x-python",
   "name": "python",
   "nbconvert_exporter": "python",
   "pygments_lexer": "ipython3",
   "version": "3.8.10"
  }
 },
 "nbformat": 4,
 "nbformat_minor": 5
}
